{
 "cells": [
  {
   "cell_type": "markdown",
   "id": "a22704f2",
   "metadata": {},
   "source": [
    "Create a Python function to read the text file and replace specific content of the file"
   ]
  },
  {
   "cell_type": "code",
   "execution_count": 26,
   "id": "adaf4e3c",
   "metadata": {},
   "outputs": [
    {
     "name": "stdout",
     "output_type": "stream",
     "text": [
      "This is a placement assignment\n"
     ]
    }
   ],
   "source": [
    "f = open(\"example.txt\",\"w\")\n",
    "f.write(\"This is a placement assignment\")\n",
    "f=open(\"example.txt\",\"r\")\n",
    "f2=f.read()\n",
    "print(f2)\n"
   ]
  },
  {
   "cell_type": "code",
   "execution_count": 24,
   "id": "3a14acde",
   "metadata": {},
   "outputs": [],
   "source": [
    "with open('example.txt', 'r') as file :\n",
    "      filedata = file.read()\n",
    "\n",
    "filedata = filedata.replace('placement', 'screening')\n",
    "\n",
    "with open('example.txt', 'w') as file:\n",
    "      file.write(filedata)\n",
    "        \n",
    "\n",
    "    "
   ]
  },
  {
   "cell_type": "code",
   "execution_count": 27,
   "id": "1aeb3241",
   "metadata": {},
   "outputs": [],
   "source": [
    "with open('example.txt', 'r') as file :\n",
    "      filedata = file.read()\n",
    "\n",
    "filedata = filedata.replace('This is a placement assignment','This is a screening assignment')\n",
    "\n",
    "with open('example.txt', 'w') as file:\n",
    "      file.write(filedata)"
   ]
  },
  {
   "cell_type": "markdown",
   "id": "59d64def",
   "metadata": {},
   "source": [
    "Demonstrate use of abstract class, multiple inheritance and decorator in python using examples."
   ]
  },
  {
   "cell_type": "markdown",
   "id": "e9141073",
   "metadata": {},
   "source": [
    "An abstract class is a class that generally contains some abstract methods. Since, abstract clas contains abstract method whose implementation is later defined in the subclass.\n",
    "\n",
    "Once an abstract class is written we should create sub classes and all the abstract methods should be implementedin the sub classes, then it us possible to create objects to subclasses.\n",
    "\n",
    "Example :\n",
    "\n",
    "from abc import ABC, abstract method\n",
    "\n",
    "class Myclass(ABC):\n",
    "    @abstractmethod\n",
    "    def calculate(self,x):\n",
    "        pass\n",
    "          "
   ]
  },
  {
   "cell_type": "markdown",
   "id": "bed1f981",
   "metadata": {},
   "source": [
    "multiple inheritance:\n",
    "    Deriving sub classes fro, multiple (or more than one) base classes is called multiple inheritance. In this type of inheritance their willl be more than one super class and there may be one or more sub classes. all the members of super classes are by default available ti sub classes and the subclasss in return inturn can have their own members.\n",
    "    \n",
    "    "
   ]
  },
  {
   "cell_type": "markdown",
   "id": "585af489",
   "metadata": {},
   "source": [
    "class father:\n",
    "    def height(self):\n",
    "        print(\"height is 6 foot\")\n",
    "        \n",
    "class mother:\n",
    "    def color(self):\n",
    "        print(\"color is brown\")\n",
    "        \n",
    "class child(Father,Mother):\n",
    "    pass\n",
    "\n",
    "c=child()\n",
    "c.height()\n",
    "c.color()"
   ]
  },
  {
   "cell_type": "markdown",
   "id": "c5717a0d",
   "metadata": {},
   "source": [
    "Decorator : \n",
    "A decorator is a function that accepst a function as parameter and returns a function. a decorator takes the result of a function, modifies the result and resturns it."
   ]
  },
  {
   "cell_type": "markdown",
   "id": "f88e1785",
   "metadata": {},
   "source": [
    "Eg :\n",
    "    def decor(fun):\n",
    "        def inner():\n",
    "            values = fun()\n",
    "            return values+2\n",
    "        return inner"
   ]
  },
  {
   "cell_type": "code",
   "execution_count": null,
   "id": "ac5f5a08",
   "metadata": {},
   "outputs": [],
   "source": []
  }
 ],
 "metadata": {
  "kernelspec": {
   "display_name": "Python 3 (ipykernel)",
   "language": "python",
   "name": "python3"
  },
  "language_info": {
   "codemirror_mode": {
    "name": "ipython",
    "version": 3
   },
   "file_extension": ".py",
   "mimetype": "text/x-python",
   "name": "python",
   "nbconvert_exporter": "python",
   "pygments_lexer": "ipython3",
   "version": "3.9.7"
  }
 },
 "nbformat": 4,
 "nbformat_minor": 5
}
