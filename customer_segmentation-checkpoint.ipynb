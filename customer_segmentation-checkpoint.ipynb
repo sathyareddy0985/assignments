{
 "cells": [
  {
   "cell_type": "markdown",
   "id": "be0d12dd",
   "metadata": {},
   "source": [
    "#  Milk data analysis and Clustering the Customers"
   ]
  },
  {
   "cell_type": "markdown",
   "id": "8da13655",
   "metadata": {},
   "source": [
    "\n",
    "### Customer segmentation is important for businesses to understand their target audience. Different advertisements can be curated and sent to different audience segments based on their demographic profile, interests, and affluence level.\n",
    "\n",
    "## Context\n",
    "\n",
    "Distributors use our sales force automation tools in order to help them track their sales, improve their operations and increase their top line.\n",
    "\n",
    "We would like to help these distributors maximize their profits by allowing them to identify which merchants they should target.\n",
    "\n",
    "The specific distributor that we will be analysing is Cow and Buffalo Milk company. They produce dairy products for the entire country. Below is a list of merchants that they service along with meta data that could be useful in determining which of the merchants they should invest resources in.\n",
    "\n",
    "## Problem\n",
    "\n",
    "1. **Make use of the merchant data set below in order to develop models that will help Cow and Buffalo Milk company target the right customers. The goal is to help Cow and Buffalo Milk company not only increase sales but also to become more efficient in allocating advertising spend.**\n",
    "2. **Given the payment history that the merchant has and the cities that the merchant operates in, create a credit scoring algorithm that will help the distributor figure out which are the most creditworthy merchants and which ones are not.**\n",
    "\n",
    "## Dataset features\n",
    "\n",
    "**The dataset has the following features:**\n",
    "\n",
    "- **Merchant Id** - This is the unique Identification number that is given to a merchant\n",
    "- **Annual Revenue** - This is the annual income of the merchant\n",
    "- **Spending score** - It is the score(out of 100) given to a merchant by Ramani.io, based on the money spent on distributor products and the behavior of the customer.\n",
    "- **City** - The city that the merchant is located in\n",
    "- **Most Purchased Product** - In terms of money spent on a particular product, this is the most popular product for that specific merchant. Therefore, this is the most purchased product by that merchant from Cow and Buffalo Milk company.\n",
    "- **Payment score -** It is the score(out of 5) given to a merchant by a Counsultant, based on the ability for the merchant to repay inventory that is purchased on credit. A score of 5 is great , a score of 1 is poor.\n",
    "\n",
    "## Constraints\n",
    "\n",
    "- Language: Python,R, Scala\n",
    "- Frameworks/libraries: Tensorflow, Keras, Apache Spark, pandas, numpy, matplotlib, sklearn\n",
    "\n",
    "\n",
    "## Submission\n",
    "\n",
    "When you have completed the project, please upload the code to a repository of your choice and share the clone link with **me**\n",
    "\n",
    "The submission should include a section on how to run the code as well as a write up on what you discovered and how you would  you advise Cow and Buffalo Milk company on which merchants to target.\n",
    "\n",
    "\n"
   ]
  },
  {
   "cell_type": "code",
   "execution_count": null,
   "id": "46a38a09",
   "metadata": {},
   "outputs": [],
   "source": []
  },
  {
   "cell_type": "code",
   "execution_count": 1,
   "id": "92b3c800",
   "metadata": {},
   "outputs": [],
   "source": [
    "# importing the required packages\n",
    "import numpy as np \n",
    "import pandas as pd \n",
    "import matplotlib.pyplot as plt \n",
    "import seaborn as sns \n",
    "import plotly as py\n",
    "import plotly.graph_objs as go\n",
    "from sklearn.cluster import KMeans\n",
    "import warnings\n",
    "warnings.filterwarnings(\"ignore\")\n",
    "plt.rc(\"font\", size=14)\n"
   ]
  },
  {
   "cell_type": "code",
   "execution_count": 2,
   "id": "adcae8df",
   "metadata": {},
   "outputs": [
    {
     "data": {
      "text/html": [
       "<div>\n",
       "<style scoped>\n",
       "    .dataframe tbody tr th:only-of-type {\n",
       "        vertical-align: middle;\n",
       "    }\n",
       "\n",
       "    .dataframe tbody tr th {\n",
       "        vertical-align: top;\n",
       "    }\n",
       "\n",
       "    .dataframe thead th {\n",
       "        text-align: right;\n",
       "    }\n",
       "</style>\n",
       "<table border=\"1\" class=\"dataframe\">\n",
       "  <thead>\n",
       "    <tr style=\"text-align: right;\">\n",
       "      <th></th>\n",
       "      <th>Merchant Id</th>\n",
       "      <th>Annual Revenue (k$)</th>\n",
       "      <th>Spending Score (1-100)</th>\n",
       "      <th>City</th>\n",
       "      <th>Most Purchased Product</th>\n",
       "    </tr>\n",
       "  </thead>\n",
       "  <tbody>\n",
       "    <tr>\n",
       "      <th>0</th>\n",
       "      <td>1</td>\n",
       "      <td>15</td>\n",
       "      <td>39</td>\n",
       "      <td>Mtwara</td>\n",
       "      <td>Mtindi 500ml</td>\n",
       "    </tr>\n",
       "    <tr>\n",
       "      <th>1</th>\n",
       "      <td>2</td>\n",
       "      <td>15</td>\n",
       "      <td>81</td>\n",
       "      <td>Zanzibar City</td>\n",
       "      <td>Fresh Milk 250ml</td>\n",
       "    </tr>\n",
       "    <tr>\n",
       "      <th>2</th>\n",
       "      <td>3</td>\n",
       "      <td>16</td>\n",
       "      <td>6</td>\n",
       "      <td>Mtwara</td>\n",
       "      <td>Mtindi 500ml</td>\n",
       "    </tr>\n",
       "    <tr>\n",
       "      <th>3</th>\n",
       "      <td>4</td>\n",
       "      <td>16</td>\n",
       "      <td>77</td>\n",
       "      <td>Zanzibar City</td>\n",
       "      <td>Fresh Milk 250ml</td>\n",
       "    </tr>\n",
       "    <tr>\n",
       "      <th>4</th>\n",
       "      <td>5</td>\n",
       "      <td>17</td>\n",
       "      <td>40</td>\n",
       "      <td>Mtwara</td>\n",
       "      <td>Mtindi 500ml</td>\n",
       "    </tr>\n",
       "  </tbody>\n",
       "</table>\n",
       "</div>"
      ],
      "text/plain": [
       "   Merchant Id  Annual Revenue (k$)  Spending Score (1-100)           City  \\\n",
       "0            1                   15                      39         Mtwara   \n",
       "1            2                   15                      81  Zanzibar City   \n",
       "2            3                   16                       6         Mtwara   \n",
       "3            4                   16                      77  Zanzibar City   \n",
       "4            5                   17                      40         Mtwara   \n",
       "\n",
       "  Most Purchased Product  \n",
       "0           Mtindi 500ml  \n",
       "1       Fresh Milk 250ml  \n",
       "2           Mtindi 500ml  \n",
       "3       Fresh Milk 250ml  \n",
       "4           Mtindi 500ml  "
      ]
     },
     "execution_count": 2,
     "metadata": {},
     "output_type": "execute_result"
    }
   ],
   "source": [
    "# read the csv and print the first 5 rows\n",
    "df = pd.read_excel(\"data.xlsx\")\n",
    "df.head()"
   ]
  },
  {
   "cell_type": "code",
   "execution_count": 3,
   "id": "5683615f",
   "metadata": {},
   "outputs": [],
   "source": [
    "df.rename(columns={'Genre':'Gender',\n",
    "                   'Annual Revenue (k$)':'Annual_Revenue',\n",
    "                   'Spending Score (1-100)':'Spending_Score',\n",
    "                   'Most Purchased Product': 'Most_Purchased_Product'\n",
    "                  }, \n",
    "                   inplace=True\n",
    "          )"
   ]
  },
  {
   "cell_type": "code",
   "execution_count": 4,
   "id": "f6df754f",
   "metadata": {},
   "outputs": [
    {
     "data": {
      "text/html": [
       "<div>\n",
       "<style scoped>\n",
       "    .dataframe tbody tr th:only-of-type {\n",
       "        vertical-align: middle;\n",
       "    }\n",
       "\n",
       "    .dataframe tbody tr th {\n",
       "        vertical-align: top;\n",
       "    }\n",
       "\n",
       "    .dataframe thead th {\n",
       "        text-align: right;\n",
       "    }\n",
       "</style>\n",
       "<table border=\"1\" class=\"dataframe\">\n",
       "  <thead>\n",
       "    <tr style=\"text-align: right;\">\n",
       "      <th></th>\n",
       "      <th>Merchant Id</th>\n",
       "      <th>Annual_Revenue</th>\n",
       "      <th>Spending_Score</th>\n",
       "    </tr>\n",
       "  </thead>\n",
       "  <tbody>\n",
       "    <tr>\n",
       "      <th>count</th>\n",
       "      <td>200.000000</td>\n",
       "      <td>200.000000</td>\n",
       "      <td>200.000000</td>\n",
       "    </tr>\n",
       "    <tr>\n",
       "      <th>mean</th>\n",
       "      <td>100.500000</td>\n",
       "      <td>60.560000</td>\n",
       "      <td>50.200000</td>\n",
       "    </tr>\n",
       "    <tr>\n",
       "      <th>std</th>\n",
       "      <td>57.879185</td>\n",
       "      <td>26.264721</td>\n",
       "      <td>25.823522</td>\n",
       "    </tr>\n",
       "    <tr>\n",
       "      <th>min</th>\n",
       "      <td>1.000000</td>\n",
       "      <td>15.000000</td>\n",
       "      <td>1.000000</td>\n",
       "    </tr>\n",
       "    <tr>\n",
       "      <th>25%</th>\n",
       "      <td>50.750000</td>\n",
       "      <td>41.500000</td>\n",
       "      <td>34.750000</td>\n",
       "    </tr>\n",
       "    <tr>\n",
       "      <th>50%</th>\n",
       "      <td>100.500000</td>\n",
       "      <td>61.500000</td>\n",
       "      <td>50.000000</td>\n",
       "    </tr>\n",
       "    <tr>\n",
       "      <th>75%</th>\n",
       "      <td>150.250000</td>\n",
       "      <td>78.000000</td>\n",
       "      <td>73.000000</td>\n",
       "    </tr>\n",
       "    <tr>\n",
       "      <th>max</th>\n",
       "      <td>200.000000</td>\n",
       "      <td>137.000000</td>\n",
       "      <td>99.000000</td>\n",
       "    </tr>\n",
       "  </tbody>\n",
       "</table>\n",
       "</div>"
      ],
      "text/plain": [
       "       Merchant Id  Annual_Revenue  Spending_Score\n",
       "count   200.000000      200.000000      200.000000\n",
       "mean    100.500000       60.560000       50.200000\n",
       "std      57.879185       26.264721       25.823522\n",
       "min       1.000000       15.000000        1.000000\n",
       "25%      50.750000       41.500000       34.750000\n",
       "50%     100.500000       61.500000       50.000000\n",
       "75%     150.250000       78.000000       73.000000\n",
       "max     200.000000      137.000000       99.000000"
      ]
     },
     "execution_count": 4,
     "metadata": {},
     "output_type": "execute_result"
    }
   ],
   "source": [
    "df.describe()"
   ]
  },
  {
   "cell_type": "code",
   "execution_count": 5,
   "id": "88d3f558",
   "metadata": {},
   "outputs": [
    {
     "name": "stdout",
     "output_type": "stream",
     "text": [
      "<class 'pandas.core.frame.DataFrame'>\n",
      "RangeIndex: 200 entries, 0 to 199\n",
      "Data columns (total 5 columns):\n",
      " #   Column                  Non-Null Count  Dtype \n",
      "---  ------                  --------------  ----- \n",
      " 0   Merchant Id             200 non-null    int64 \n",
      " 1   Annual_Revenue          200 non-null    int64 \n",
      " 2   Spending_Score          200 non-null    int64 \n",
      " 3   City                    200 non-null    object\n",
      " 4   Most_Purchased_Product  200 non-null    object\n",
      "dtypes: int64(3), object(2)\n",
      "memory usage: 7.9+ KB\n"
     ]
    }
   ],
   "source": [
    "df.info()"
   ]
  },
  {
   "cell_type": "code",
   "execution_count": 6,
   "id": "f4790939",
   "metadata": {},
   "outputs": [
    {
     "data": {
      "text/plain": [
       "Dar es Salaam    82\n",
       "Moshi            76\n",
       "Mtwara           21\n",
       "Zanzibar City    21\n",
       "Name: City, dtype: int64"
      ]
     },
     "execution_count": 6,
     "metadata": {},
     "output_type": "execute_result"
    }
   ],
   "source": [
    "df['City'].value_counts()"
   ]
  },
  {
   "cell_type": "code",
   "execution_count": 7,
   "id": "f4a7245f",
   "metadata": {},
   "outputs": [
    {
     "data": {
      "text/plain": [
       "Mtindi 250ml        82\n",
       "Fresh Milk 1ltr     76\n",
       "Fresh Milk 250ml    21\n",
       "Mtindi 500ml        21\n",
       "Name: Most_Purchased_Product, dtype: int64"
      ]
     },
     "execution_count": 7,
     "metadata": {},
     "output_type": "execute_result"
    }
   ],
   "source": [
    "df['Most_Purchased_Product'].value_counts()"
   ]
  },
  {
   "cell_type": "code",
   "execution_count": 8,
   "id": "97139415",
   "metadata": {},
   "outputs": [
    {
     "data": {
      "text/plain": [
       "Merchant Id               0\n",
       "Annual_Revenue            0\n",
       "Spending_Score            0\n",
       "City                      0\n",
       "Most_Purchased_Product    0\n",
       "dtype: int64"
      ]
     },
     "execution_count": 8,
     "metadata": {},
     "output_type": "execute_result"
    }
   ],
   "source": [
    "#Looking for null values\n",
    "df.isna().sum()"
   ]
  },
  {
   "cell_type": "code",
   "execution_count": 12,
   "id": "53bde6ce",
   "metadata": {},
   "outputs": [
    {
     "data": {
      "image/png": "[encoded data removed]",
      "text/plain": [
       "<Figure size 432x288 with 1 Axes>"
      ]
     },
     "metadata": {
      "needs_background": "light"
     },
     "output_type": "display_data"
    }
   ],
   "source": [
    "#Creating values for the elbow\n",
    "X = df.loc[:,[\"Annual_Revenue\", \"Spending_Score\"]]\n",
    "inertia = []\n",
    "k = range(1,20)\n",
    "for i in k:\n",
    "    means_k = KMeans(n_clusters=i, random_state=0)\n",
    "    means_k.fit(X)\n",
    "    inertia.append(means_k.inertia_)\n",
    "\n",
    "#Plotting the elbow\n",
    "plt.plot(k , inertia , 'bo-')\n",
    "plt.xlabel('Number of Clusters') , plt.ylabel('Inertia(WCSS)')\n",
    "plt.show()\n"
   ]
  },
  {
   "cell_type": "code",
   "execution_count": 13,
   "id": "907ac32c",
   "metadata": {},
   "outputs": [],
   "source": [
    "# Fitting K-Means to the dataset\n",
    "kmeans = KMeans(n_clusters = 5, init = 'k-means++', random_state = 42)\n",
    "y_kmeans = kmeans.fit_predict(X)\n",
    "labels = means_k.labels_\n",
    "centroids = kmeans.cluster_centers_\n"
   ]
  },
  {
   "cell_type": "code",
   "execution_count": 14,
   "id": "b524bc4c",
   "metadata": {},
   "outputs": [
    {
     "name": "stdout",
     "output_type": "stream",
     "text": [
      "[2 3 2 3 2 3 2 3 2 3 2 3 2 3 2 3 2 3 2 3 2 3 2 3 2 3 2 3 2 3 2 3 2 3 2 3 2\n",
      " 3 2 3 2 3 2 0 2 3 0 0 0 0 0 0 0 0 0 0 0 0 0 0 0 0 0 0 0 0 0 0 0 0 0 0 0 0\n",
      " 0 0 0 0 0 0 0 0 0 0 0 0 0 0 0 0 0 0 0 0 0 0 0 0 0 0 0 0 0 0 0 0 0 0 0 0 0\n",
      " 0 0 0 0 0 0 0 0 0 0 0 0 4 1 4 0 4 1 4 1 4 0 4 1 4 1 4 1 4 1 4 0 4 1 4 1 4\n",
      " 1 4 1 4 1 4 1 4 1 4 1 4 1 4 1 4 1 4 1 4 1 4 1 4 1 4 1 4 1 4 1 4 1 4 1 4 1\n",
      " 4 1 4 1 4 1 4 1 4 1 4 1 4 1 4]\n"
     ]
    }
   ],
   "source": [
    "print(y_kmeans)"
   ]
  },
  {
   "cell_type": "code",
   "execution_count": 15,
   "id": "a8311c34",
   "metadata": {},
   "outputs": [
    {
     "data": {
      "text/plain": [
       "200"
      ]
     },
     "execution_count": 15,
     "metadata": {},
     "output_type": "execute_result"
    }
   ],
   "source": [
    "len(y_kmeans)"
   ]
  },
  {
   "cell_type": "code",
   "execution_count": null,
   "id": "ac791754",
   "metadata": {},
   "outputs": [],
   "source": []
  },
  {
   "cell_type": "code",
   "execution_count": 39,
   "id": "975355c5",
   "metadata": {},
   "outputs": [
    {
     "data": {
      "image/png": "[encoded data removed]",
      "text/plain": [
       "<Figure size 432x288 with 1 Axes>"
      ]
     },
     "metadata": {
      "needs_background": "light"
     },
     "output_type": "display_data"
    }
   ],
   "source": [
    "# Visualising the clusters\n",
    "plt.scatter(X[y_kmeans == 0]['Annual_Revenue'], X[y_kmeans == 0]['Spending_Score'], s = 100, c = 'red', label = 'c1_General')\n",
    "plt.scatter(X[y_kmeans == 1]['Annual_Revenue'], X[y_kmeans == 1]['Spending_Score'], s = 100, c = 'blue', label = 'c2_Miser')\n",
    "plt.scatter(X[y_kmeans == 2]['Annual_Revenue'], X[y_kmeans == 2]['Spending_Score'], s = 100, c = 'green', label = 'c3_Careful')\n",
    "plt.scatter(X[y_kmeans == 3]['Annual_Revenue'], X[y_kmeans == 3]['Spending_Score'], s = 100, c = 'cyan', label = 'c4_Spendthrift')\n",
    "plt.scatter(X[y_kmeans == 4]['Annual_Revenue'], X[y_kmeans == 4]['Spending_Score'], s = 100, c = 'magenta', label = 'c5_Target')\n",
    "plt.scatter(centroids[:, 0], centroids[:, 1], s = 300, c = 'yellow', label = 'Centroids')\n",
    "plt.title('Clusters of Merchants')\n",
    "plt.xlabel('Annual Income (k$)')\n",
    "plt.ylabel('Spending Score (1-100)')\n",
    "# plt.legend()\n",
    "plt.legend(bbox_to_anchor=(1.02, 1), loc='upper left', borderaxespad=0)\n",
    "plt.show()"
   ]
  },
  {
   "cell_type": "code",
   "execution_count": 17,
   "id": "35cdb645",
   "metadata": {},
   "outputs": [],
   "source": [
    "df.loc[:,\"Cluster_Number\"] = y_kmeans"
   ]
  },
  {
   "cell_type": "code",
   "execution_count": 18,
   "id": "67be87b5",
   "metadata": {},
   "outputs": [],
   "source": [
    "Cluster_Nature = []\n",
    "\n",
    "for row in df['Cluster_Number']:\n",
    "    if row == 0: \n",
    "        Cluster_Nature.append('General')\n",
    "    elif row == 1: \n",
    "        Cluster_Nature.append('Miser') # Miser is the one who hoards wealth and spends a little money\n",
    "    elif row == 2: Cluster_Nature.append('Careful')\n",
    "    elif row == 3: Cluster_Nature.append('Spendthrift') # spendthrift is the one who spends money in an extravagant\n",
    "    elif row == 4:  Cluster_Nature.append('Target')\n",
    "    else: Cluster_Nature.append('Outlier')\n",
    "\n",
    "df['Cluster_Nature'] = Cluster_Nature\n"
   ]
  },
  {
   "cell_type": "code",
   "execution_count": 19,
   "id": "5237ba28",
   "metadata": {},
   "outputs": [
    {
     "name": "stdout",
     "output_type": "stream",
     "text": [
      "<class 'pandas.core.frame.DataFrame'>\n",
      "RangeIndex: 200 entries, 0 to 199\n",
      "Data columns (total 7 columns):\n",
      " #   Column                  Non-Null Count  Dtype \n",
      "---  ------                  --------------  ----- \n",
      " 0   Merchant Id             200 non-null    int64 \n",
      " 1   Annual_Revenue          200 non-null    int64 \n",
      " 2   Spending_Score          200 non-null    int64 \n",
      " 3   City                    200 non-null    object\n",
      " 4   Most_Purchased_Product  200 non-null    object\n",
      " 5   Cluster_Number          200 non-null    int32 \n",
      " 6   Cluster_Nature          200 non-null    object\n",
      "dtypes: int32(1), int64(3), object(3)\n",
      "memory usage: 10.3+ KB\n"
     ]
    }
   ],
   "source": [
    "df.info()"
   ]
  },
  {
   "cell_type": "code",
   "execution_count": 20,
   "id": "f986c235",
   "metadata": {},
   "outputs": [
    {
     "data": {
      "text/html": [
       "<div>\n",
       "<style scoped>\n",
       "    .dataframe tbody tr th:only-of-type {\n",
       "        vertical-align: middle;\n",
       "    }\n",
       "\n",
       "    .dataframe tbody tr th {\n",
       "        vertical-align: top;\n",
       "    }\n",
       "\n",
       "    .dataframe thead th {\n",
       "        text-align: right;\n",
       "    }\n",
       "</style>\n",
       "<table border=\"1\" class=\"dataframe\">\n",
       "  <thead>\n",
       "    <tr style=\"text-align: right;\">\n",
       "      <th></th>\n",
       "      <th>Merchant Id</th>\n",
       "      <th>Annual_Revenue</th>\n",
       "      <th>Spending_Score</th>\n",
       "      <th>City</th>\n",
       "      <th>Most_Purchased_Product</th>\n",
       "      <th>Cluster_Number</th>\n",
       "      <th>Cluster_Nature</th>\n",
       "    </tr>\n",
       "  </thead>\n",
       "  <tbody>\n",
       "    <tr>\n",
       "      <th>0</th>\n",
       "      <td>1</td>\n",
       "      <td>15</td>\n",
       "      <td>39</td>\n",
       "      <td>Mtwara</td>\n",
       "      <td>Mtindi 500ml</td>\n",
       "      <td>2</td>\n",
       "      <td>Careful</td>\n",
       "    </tr>\n",
       "    <tr>\n",
       "      <th>1</th>\n",
       "      <td>2</td>\n",
       "      <td>15</td>\n",
       "      <td>81</td>\n",
       "      <td>Zanzibar City</td>\n",
       "      <td>Fresh Milk 250ml</td>\n",
       "      <td>3</td>\n",
       "      <td>Spendthrift</td>\n",
       "    </tr>\n",
       "    <tr>\n",
       "      <th>2</th>\n",
       "      <td>3</td>\n",
       "      <td>16</td>\n",
       "      <td>6</td>\n",
       "      <td>Mtwara</td>\n",
       "      <td>Mtindi 500ml</td>\n",
       "      <td>2</td>\n",
       "      <td>Careful</td>\n",
       "    </tr>\n",
       "    <tr>\n",
       "      <th>3</th>\n",
       "      <td>4</td>\n",
       "      <td>16</td>\n",
       "      <td>77</td>\n",
       "      <td>Zanzibar City</td>\n",
       "      <td>Fresh Milk 250ml</td>\n",
       "      <td>3</td>\n",
       "      <td>Spendthrift</td>\n",
       "    </tr>\n",
       "    <tr>\n",
       "      <th>4</th>\n",
       "      <td>5</td>\n",
       "      <td>17</td>\n",
       "      <td>40</td>\n",
       "      <td>Mtwara</td>\n",
       "      <td>Mtindi 500ml</td>\n",
       "      <td>2</td>\n",
       "      <td>Careful</td>\n",
       "    </tr>\n",
       "  </tbody>\n",
       "</table>\n",
       "</div>"
      ],
      "text/plain": [
       "   Merchant Id  Annual_Revenue  Spending_Score           City  \\\n",
       "0            1              15              39         Mtwara   \n",
       "1            2              15              81  Zanzibar City   \n",
       "2            3              16               6         Mtwara   \n",
       "3            4              16              77  Zanzibar City   \n",
       "4            5              17              40         Mtwara   \n",
       "\n",
       "  Most_Purchased_Product  Cluster_Number Cluster_Nature  \n",
       "0           Mtindi 500ml               2        Careful  \n",
       "1       Fresh Milk 250ml               3    Spendthrift  \n",
       "2           Mtindi 500ml               2        Careful  \n",
       "3       Fresh Milk 250ml               3    Spendthrift  \n",
       "4           Mtindi 500ml               2        Careful  "
      ]
     },
     "execution_count": 20,
     "metadata": {},
     "output_type": "execute_result"
    }
   ],
   "source": [
    "df.head()"
   ]
  },
  {
   "cell_type": "code",
   "execution_count": 21,
   "id": "6f5fe7fb",
   "metadata": {},
   "outputs": [
    {
     "data": {
      "text/plain": [
       "General        81\n",
       "Target         39\n",
       "Miser          35\n",
       "Careful        23\n",
       "Spendthrift    22\n",
       "Name: Cluster_Nature, dtype: int64"
      ]
     },
     "execution_count": 21,
     "metadata": {},
     "output_type": "execute_result"
    }
   ],
   "source": [
    "df['Cluster_Nature'].value_counts()"
   ]
  },
  {
   "cell_type": "code",
   "execution_count": 22,
   "id": "4985694d",
   "metadata": {},
   "outputs": [
    {
     "name": "stdout",
     "output_type": "stream",
     "text": [
      "['Careful' 'Spendthrift' 'General' 'Target' 'Miser']\n"
     ]
    }
   ],
   "source": [
    "uniqueValues = df['Cluster_Nature'].unique()\n",
    "print(uniqueValues)"
   ]
  },
  {
   "cell_type": "code",
   "execution_count": 23,
   "id": "06b05d4c",
   "metadata": {},
   "outputs": [],
   "source": [
    "target_df = df.loc[df['Cluster_Nature'] == 'Target']"
   ]
  },
  {
   "cell_type": "code",
   "execution_count": 24,
   "id": "973b8b90",
   "metadata": {},
   "outputs": [
    {
     "data": {
      "text/html": [
       "<div>\n",
       "<style scoped>\n",
       "    .dataframe tbody tr th:only-of-type {\n",
       "        vertical-align: middle;\n",
       "    }\n",
       "\n",
       "    .dataframe tbody tr th {\n",
       "        vertical-align: top;\n",
       "    }\n",
       "\n",
       "    .dataframe thead th {\n",
       "        text-align: right;\n",
       "    }\n",
       "</style>\n",
       "<table border=\"1\" class=\"dataframe\">\n",
       "  <thead>\n",
       "    <tr style=\"text-align: right;\">\n",
       "      <th></th>\n",
       "      <th>Merchant Id</th>\n",
       "      <th>Annual_Revenue</th>\n",
       "      <th>Spending_Score</th>\n",
       "      <th>City</th>\n",
       "      <th>Most_Purchased_Product</th>\n",
       "      <th>Cluster_Number</th>\n",
       "      <th>Cluster_Nature</th>\n",
       "    </tr>\n",
       "  </thead>\n",
       "  <tbody>\n",
       "    <tr>\n",
       "      <th>123</th>\n",
       "      <td>124</td>\n",
       "      <td>69</td>\n",
       "      <td>91</td>\n",
       "      <td>Dar es Salaam</td>\n",
       "      <td>Mtindi 250ml</td>\n",
       "      <td>4</td>\n",
       "      <td>Target</td>\n",
       "    </tr>\n",
       "    <tr>\n",
       "      <th>125</th>\n",
       "      <td>126</td>\n",
       "      <td>70</td>\n",
       "      <td>77</td>\n",
       "      <td>Dar es Salaam</td>\n",
       "      <td>Mtindi 250ml</td>\n",
       "      <td>4</td>\n",
       "      <td>Target</td>\n",
       "    </tr>\n",
       "    <tr>\n",
       "      <th>127</th>\n",
       "      <td>128</td>\n",
       "      <td>71</td>\n",
       "      <td>95</td>\n",
       "      <td>Dar es Salaam</td>\n",
       "      <td>Mtindi 250ml</td>\n",
       "      <td>4</td>\n",
       "      <td>Target</td>\n",
       "    </tr>\n",
       "    <tr>\n",
       "      <th>129</th>\n",
       "      <td>130</td>\n",
       "      <td>71</td>\n",
       "      <td>75</td>\n",
       "      <td>Dar es Salaam</td>\n",
       "      <td>Mtindi 250ml</td>\n",
       "      <td>4</td>\n",
       "      <td>Target</td>\n",
       "    </tr>\n",
       "    <tr>\n",
       "      <th>131</th>\n",
       "      <td>132</td>\n",
       "      <td>71</td>\n",
       "      <td>75</td>\n",
       "      <td>Dar es Salaam</td>\n",
       "      <td>Mtindi 250ml</td>\n",
       "      <td>4</td>\n",
       "      <td>Target</td>\n",
       "    </tr>\n",
       "  </tbody>\n",
       "</table>\n",
       "</div>"
      ],
      "text/plain": [
       "     Merchant Id  Annual_Revenue  Spending_Score           City  \\\n",
       "123          124              69              91  Dar es Salaam   \n",
       "125          126              70              77  Dar es Salaam   \n",
       "127          128              71              95  Dar es Salaam   \n",
       "129          130              71              75  Dar es Salaam   \n",
       "131          132              71              75  Dar es Salaam   \n",
       "\n",
       "    Most_Purchased_Product  Cluster_Number Cluster_Nature  \n",
       "123           Mtindi 250ml               4         Target  \n",
       "125           Mtindi 250ml               4         Target  \n",
       "127           Mtindi 250ml               4         Target  \n",
       "129           Mtindi 250ml               4         Target  \n",
       "131           Mtindi 250ml               4         Target  "
      ]
     },
     "execution_count": 24,
     "metadata": {},
     "output_type": "execute_result"
    }
   ],
   "source": [
    "target_df.head()"
   ]
  },
  {
   "cell_type": "code",
   "execution_count": 36,
   "id": "2414d628",
   "metadata": {},
   "outputs": [
    {
     "data": {
      "text/plain": [
       "<AxesSubplot:>"
      ]
     },
     "execution_count": 36,
     "metadata": {},
     "output_type": "execute_result"
    },
    {
     "data": {
      "image/png": "[encoded data removed]",
      "text/plain": [
       "<Figure size 432x288 with 1 Axes>"
      ]
     },
     "metadata": {},
     "output_type": "display_data"
    }
   ],
   "source": [
    "# Define the ratio of gap of each fragment in a tuple\n",
    "explode = (0.05, 0.05, 0.05,0.05)\n",
    "  \n",
    "# Plotting the pie chart for above dataframe\n",
    "df.groupby(['City']).sum().plot(\n",
    "    kind='pie', y='Spending_Score', autopct='%1.0f%%', explode=explode, legend = False,ylabel='')"
   ]
  },
  {
   "cell_type": "code",
   "execution_count": 35,
   "id": "5993423e",
   "metadata": {},
   "outputs": [
    {
     "data": {
      "text/plain": [
       "<AxesSubplot:>"
      ]
     },
     "execution_count": 35,
     "metadata": {},
     "output_type": "execute_result"
    },
    {
     "data": {
      "image/png": "[encoded data removed]",
      "text/plain": [
       "<Figure size 432x288 with 1 Axes>"
      ]
     },
     "metadata": {},
     "output_type": "display_data"
    }
   ],
   "source": [
    "# Define the ratio of gap of each fragment in a tuple\n",
    "explode = (0.05, 0.05, 0.05,0.05)\n",
    "  \n",
    "# Plotting the pie chart for above dataframe\n",
    "df.groupby(['Most_Purchased_Product']).sum().plot(\n",
    "    kind='pie', y='Spending_Score', autopct='%1.0f%%', explode=explode, legend = False, ylabel='')"
   ]
  },
  {
   "cell_type": "code",
   "execution_count": 26,
   "id": "6e0f9cd1",
   "metadata": {},
   "outputs": [
    {
     "name": "stdout",
     "output_type": "stream",
     "text": [
      "Cluster_Nature  Careful  General  Miser  Spendthrift  Target\n",
      "City                                                        \n",
      "Dar es Salaam         0        8     35            0      39\n",
      "Moshi                 2       73      0            1       0\n",
      "Mtwara               21        0      0            0       0\n",
      "Zanzibar City         0        0      0           21       0\n"
     ]
    },
    {
     "data": {
      "text/plain": [
       "<matplotlib.legend.Legend at 0x1600c9f9310>"
      ]
     },
     "execution_count": 26,
     "metadata": {},
     "output_type": "execute_result"
    },
    {
     "data": {
      "image/png": "[encoded data removed]",
      "text/plain": [
       "<Figure size 504x288 with 1 Axes>"
      ]
     },
     "metadata": {
      "needs_background": "light"
     },
     "output_type": "display_data"
    }
   ],
   "source": [
    "\n",
    "# Cross tabulation between City and Cluster  Nature\n",
    "CrosstabResult=pd.crosstab(index=df['City'],columns=df['Cluster_Nature'])\n",
    "print(CrosstabResult)\n",
    "# Grouped bar chart \n",
    "CrosstabResult.plot.bar(figsize=(7,4), rot=0)\n",
    "plt.legend(bbox_to_anchor=(1.36, 1.04))"
   ]
  },
  {
   "cell_type": "code",
   "execution_count": 27,
   "id": "72c2eb37",
   "metadata": {},
   "outputs": [
    {
     "name": "stdout",
     "output_type": "stream",
     "text": [
      "Cluster_Nature          Careful  General  Miser  Spendthrift  Target\n",
      "Most_Purchased_Product                                              \n",
      "Fresh Milk 1ltr               2       73      0            1       0\n",
      "Fresh Milk 250ml              0        0      0           21       0\n",
      "Mtindi 250ml                  0        8     35            0      39\n",
      "Mtindi 500ml                 21        0      0            0       0\n"
     ]
    },
    {
     "data": {
      "text/plain": [
       "<matplotlib.legend.Legend at 0x1600b8a85e0>"
      ]
     },
     "execution_count": 27,
     "metadata": {},
     "output_type": "execute_result"
    },
    {
     "data": {
      "image/png": "[encoded data removed]",
      "text/plain": [
       "<Figure size 504x288 with 1 Axes>"
      ]
     },
     "metadata": {
      "needs_background": "light"
     },
     "output_type": "display_data"
    }
   ],
   "source": [
    "# Cross tabulation between Product and Cluster  Nature\n",
    "CrosstabResult=pd.crosstab(index=df['Most_Purchased_Product'],columns=df['Cluster_Nature'])\n",
    "print(CrosstabResult)\n",
    "# Grouped bar chart \n",
    "CrosstabResult.plot.bar(figsize=(7,4))\n",
    "plt.legend(bbox_to_anchor=(1.0, 1.0))"
   ]
  },
  {
   "cell_type": "code",
   "execution_count": 28,
   "id": "8e44995f",
   "metadata": {},
   "outputs": [
    {
     "name": "stdout",
     "output_type": "stream",
     "text": [
      "City                    Dar es Salaam  Moshi  Mtwara  Zanzibar City\n",
      "Most_Purchased_Product                                             \n",
      "Fresh Milk 1ltr                     0     76       0              0\n",
      "Fresh Milk 250ml                    0      0       0             21\n",
      "Mtindi 250ml                       82      0       0              0\n",
      "Mtindi 500ml                        0      0      21              0\n"
     ]
    },
    {
     "data": {
      "text/plain": [
       "<matplotlib.legend.Legend at 0x1600cbfaf40>"
      ]
     },
     "execution_count": 28,
     "metadata": {},
     "output_type": "execute_result"
    },
    {
     "data": {
      "image/png": "[encoded data removed]",
      "text/plain": [
       "<Figure size 504x288 with 1 Axes>"
      ]
     },
     "metadata": {
      "needs_background": "light"
     },
     "output_type": "display_data"
    }
   ],
   "source": [
    "# Cross tabulation between Product and Cluster  Nature\n",
    "CrosstabResult=pd.crosstab(index=df['Most_Purchased_Product'],columns=df['City'])\n",
    "print(CrosstabResult)\n",
    "# Grouped bar chart \n",
    "CrosstabResult.plot.bar(figsize=(7,4))\n",
    "plt.legend(bbox_to_anchor=(1.0, 1.0))"
   ]
  },
  {
   "cell_type": "code",
   "execution_count": 29,
   "id": "6ce2bc9c",
   "metadata": {},
   "outputs": [
    {
     "name": "stdout",
     "output_type": "stream",
     "text": [
      "                              Annual_Revenue\n",
      "City          Cluster_Nature                \n",
      "Dar es Salaam General              69.500000\n",
      "              Miser                88.200000\n",
      "              Target               86.538462\n",
      "Moshi         Careful              39.000000\n",
      "              General              53.739726\n",
      "              Spendthrift          39.000000\n",
      "Mtwara        Careful              25.095238\n",
      "Zanzibar City Spendthrift          25.095238\n"
     ]
    },
    {
     "data": {
      "text/plain": [
       "<AxesSubplot:xlabel='City,Cluster_Nature'>"
      ]
     },
     "execution_count": 29,
     "metadata": {},
     "output_type": "execute_result"
    },
    {
     "data": {
      "image/png": "[encoded data removed]",
      "text/plain": [
       "<Figure size 432x288 with 1 Axes>"
      ]
     },
     "metadata": {
      "needs_background": "light"
     },
     "output_type": "display_data"
    }
   ],
   "source": [
    "#Pivoit Table on city vs Cluster Nature aggregated by Annual Revenue\n",
    "table = pd.pivot_table(df,index=['City','Cluster_Nature'],aggfunc={'Annual_Revenue':np.mean}) #,'Most_Purchased_Product':np.sum\n",
    "print(table)\n",
    "table.plot(kind='bar')"
   ]
  },
  {
   "cell_type": "code",
   "execution_count": null,
   "id": "37c3df7a",
   "metadata": {},
   "outputs": [],
   "source": []
  },
  {
   "cell_type": "code",
   "execution_count": null,
   "id": "1e2009f7",
   "metadata": {},
   "outputs": [],
   "source": []
  }
 ],
 "metadata": {
  "kernelspec": {
   "display_name": "Python 3 (ipykernel)",
   "language": "python",
   "name": "python3"
  },
  "language_info": {
   "codemirror_mode": {
    "name": "ipython",
    "version": 3
   },
   "file_extension": ".py",
   "mimetype": "text/x-python",
   "name": "python",
   "nbconvert_exporter": "python",
   "pygments_lexer": "ipython3",
   "version": "3.8.8"
  }
 },
 "nbformat": 4,
 "nbformat_minor": 5
}
