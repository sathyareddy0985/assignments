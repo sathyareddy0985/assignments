{
  "nbformat": 4,
  "nbformat_minor": 0,
  "metadata": {
    "colab": {
      "provenance": []
    },
    "kernelspec": {
      "name": "python3",
      "display_name": "Python 3"
    },
    "language_info": {
      "name": "python"
    }
  },
  "cells": [
    {
      "cell_type": "code",
      "execution_count": null,
      "metadata": {
        "id": "7uoNmQ2NWpIg"
      },
      "outputs": [],
      "source": []
    },
    {
      "cell_type": "markdown",
      "source": [
        "1). Create a tuple called data with two values, (1, 2) and (3, 4)\n"
      ],
      "metadata": {
        "id": "3UcQh92hWsBP"
      }
    },
    {
      "cell_type": "code",
      "source": [
        "data=((1,2),(3,4))"
      ],
      "metadata": {
        "id": "eHsHCcSWWvoG"
      },
      "execution_count": 1,
      "outputs": []
    },
    {
      "cell_type": "markdown",
      "source": [
        "2). Create the list [4, 3, 2, 1] and assign it to variable numbers.\n"
      ],
      "metadata": {
        "id": "s0sqHWD3XArs"
      }
    },
    {
      "cell_type": "code",
      "source": [
        "a=[4,3,2,1]"
      ],
      "metadata": {
        "id": "ZizT-5-nXD7W"
      },
      "execution_count": 3,
      "outputs": []
    },
    {
      "cell_type": "markdown",
      "source": [
        "3). Create a copy of the number list using [:]\n"
      ],
      "metadata": {
        "id": "Ez7rSTbCXfZT"
      }
    },
    {
      "cell_type": "code",
      "source": [
        "a=[11,12,13,\"sreekar\"]\n",
        "\n",
        "print(a[:])\n"
      ],
      "metadata": {
        "colab": {
          "base_uri": "https://localhost:8080/"
        },
        "id": "ycrEKjEPXgbA",
        "outputId": "8569bccd-394d-48b7-f48d-5d1493ea6235"
      },
      "execution_count": 4,
      "outputs": [
        {
          "output_type": "stream",
          "name": "stdout",
          "text": [
            "[11, 12, 13, 'sreekar']\n"
          ]
        }
      ]
    },
    {
      "cell_type": "markdown",
      "source": [
        "4). Sort the numbers list in numerical order"
      ],
      "metadata": {
        "id": "LsDKOQ5-Xx_T"
      }
    },
    {
      "cell_type": "code",
      "source": [
        "b=[21,22,23,24,25]\n",
        "\n",
        "c=sorted(b,reverse=True)\n",
        "print(c)\n",
        "\n"
      ],
      "metadata": {
        "colab": {
          "base_uri": "https://localhost:8080/"
        },
        "id": "m0hIjIRCXzJ8",
        "outputId": "5b502feb-4ab6-4086-f1d1-9f5beab378a5"
      },
      "execution_count": 18,
      "outputs": [
        {
          "output_type": "stream",
          "name": "stdout",
          "text": [
            "[25, 24, 23, 22, 21]\n"
          ]
        }
      ]
    },
    {
      "cell_type": "markdown",
      "source": [
        "5). Create a tuple \"cardinal_numbers\" with \"first\", \"second\" and \"third\""
      ],
      "metadata": {
        "id": "pJZ4TzcVY4Yw"
      }
    },
    {
      "cell_type": "code",
      "source": [
        "cardinal_numbers=[\"first\",\"second\",\"three\"]"
      ],
      "metadata": {
        "id": "Ti6rzIrQYA7Y"
      },
      "execution_count": 19,
      "outputs": []
    },
    {
      "cell_type": "markdown",
      "source": [
        "6). Display the second object in the tuple"
      ],
      "metadata": {
        "id": "3rG435ciZQk7"
      }
    },
    {
      "cell_type": "code",
      "source": [
        "cardinal_numbers=[\"first\",\"second\",\"three\"]\n",
        "print(cardinal_numbers[1])"
      ],
      "metadata": {
        "colab": {
          "base_uri": "https://localhost:8080/"
        },
        "id": "czv3-QKmZTPP",
        "outputId": "f9a202b3-c3e1-423c-f604-96ee7c75e4fe"
      },
      "execution_count": 6,
      "outputs": [
        {
          "output_type": "stream",
          "name": "stdout",
          "text": [
            "second\n"
          ]
        }
      ]
    },
    {
      "cell_type": "markdown",
      "source": [
        "7). Unpack the tuple into three strings and display them"
      ],
      "metadata": {
        "id": "EnZlgaY2Zoii"
      }
    },
    {
      "cell_type": "code",
      "source": [
        "a,b,c=cardinal_numbers\n",
        "print(a)\n",
        "print(b)\n",
        "print(c)\n"
      ],
      "metadata": {
        "colab": {
          "base_uri": "https://localhost:8080/"
        },
        "id": "kcoCuQhaZo_f",
        "outputId": "9d35d3c6-1338-48c6-ec7a-2a3f7fde5c58"
      },
      "execution_count": 7,
      "outputs": [
        {
          "output_type": "stream",
          "name": "stdout",
          "text": [
            "first\n",
            "second\n",
            "three\n"
          ]
        }
      ]
    },
    {
      "cell_type": "markdown",
      "source": [
        "8). Create a tuple containing the letters of your name from a string"
      ],
      "metadata": {
        "id": "rgXlwk-kaD1_"
      }
    },
    {
      "cell_type": "code",
      "source": [
        "my_name=\"sreekar reddy\"\n",
        "b=tuple(my_name)\n",
        "print(b)\n",
        "\n"
      ],
      "metadata": {
        "colab": {
          "base_uri": "https://localhost:8080/"
        },
        "id": "VKcrLBt8aEXC",
        "outputId": "005c3b46-987d-4708-c81d-6a18fdee4ae8"
      },
      "execution_count": 2,
      "outputs": [
        {
          "output_type": "stream",
          "name": "stdout",
          "text": [
            "('s', 'r', 'e', 'e', 'k', 'a', 'r', ' ', 'r', 'e', 'd', 'd', 'y')\n"
          ]
        }
      ]
    },
    {
      "cell_type": "markdown",
      "source": [
        "9) Check whether or not x is in my_name"
      ],
      "metadata": {
        "id": "4S0-QGktaRSR"
      }
    },
    {
      "cell_type": "code",
      "source": [
        "print(\"x\" in my_name)\n",
        "\n",
        "\n"
      ],
      "metadata": {
        "colab": {
          "base_uri": "https://localhost:8080/"
        },
        "id": "xyhNDE0daUUt",
        "outputId": "56b97737-bf99-4c8d-c1d3-781522e4b1e6"
      },
      "execution_count": 3,
      "outputs": [
        {
          "output_type": "stream",
          "name": "stdout",
          "text": [
            "False\n"
          ]
        }
      ]
    },
    {
      "cell_type": "markdown",
      "source": [
        "10). Check whether or not s is in my_name"
      ],
      "metadata": {
        "id": "_QIQ22AUapTY"
      }
    },
    {
      "cell_type": "code",
      "source": [
        "print(\"s\" in my_name)"
      ],
      "metadata": {
        "colab": {
          "base_uri": "https://localhost:8080/"
        },
        "id": "gj9Ut6gtapz9",
        "outputId": "ad682eca-3d07-4631-f061-d3637d7fe0b1"
      },
      "execution_count": 4,
      "outputs": [
        {
          "output_type": "stream",
          "name": "stdout",
          "text": [
            "True\n"
          ]
        }
      ]
    },
    {
      "cell_type": "code",
      "source": [],
      "metadata": {
        "id": "ysAAcMRuaxs_"
      },
      "execution_count": null,
      "outputs": []
    }
  ]
}