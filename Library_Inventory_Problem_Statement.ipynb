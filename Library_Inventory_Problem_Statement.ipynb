{
  "cells": [
    {
      "cell_type": "markdown",
      "metadata": {
        "id": "view-in-github",
        "colab_type": "text"
      },
      "source": [
        "<a href=\"https://colab.research.google.com/github/Sreekar133/Assignments/blob/main/Library_Inventory_Problem_Statement.ipynb\" target=\"_parent\"><img src=\"https://colab.research.google.com/assets/colab-badge.svg\" alt=\"Open In Colab\"/></a>"
      ]
    },
    {
      "cell_type": "markdown",
      "id": "4cdd9769",
      "metadata": {
        "id": "4cdd9769"
      },
      "source": [
        "\n",
        "\n",
        "**Python Project: Basic Library Management System**\n",
        "\n",
        "Project Description:\n",
        "\n",
        "Develop a basic library management system in Python without the use of object-oriented programming. Create a Python script that simulates the functionalities of a library system.\n",
        "\n",
        "Maintain a dictionary to represent the library inventory, where each book is identified by its title, and the corresponding value is the quantity available. Initially, populate the inventory with a set of sample books and quantities.\n",
        "\n",
        "Include essential features such as displaying the available books, allowing users to borrow books, return books, and exit the system.\n",
        "\n",
        "User input will be used to select options from the system menu, and the output should be displayed on the screen.\n",
        "\n"
      ]
    },
    {
      "cell_type": "markdown",
      "id": "ea84ed25",
      "metadata": {
        "id": "ea84ed25"
      },
      "source": [
        "### Expected Sample Output"
      ]
    },
    {
      "cell_type": "markdown",
      "id": "c8706f9d",
      "metadata": {
        "id": "c8706f9d"
      },
      "source": [
        "\n",
        "\n",
        "Welcome to the Basic Library Management System!\n",
        "\n",
        "1. Display Available Books\n",
        "2. Borrow a Book\n",
        "3. Return a Book\n",
        "4. Exit\n",
        "\n",
        "Enter your choice (1-4): 1\n",
        "\n",
        "Available Books:\n",
        "1. Book1 - 5 available\n",
        "2. Book2 - 3 available\n",
        "3. Book3 - 7 available\n",
        "4. Book4 - 2 available\n",
        "5. Book5 - 4 available\n",
        "\n",
        "Enter your choice (1-4): 2\n",
        "\n",
        "Enter the title of the book you want to borrow: Book2\n",
        "Enter the quantity you want to borrow: 2\n",
        "You have borrowed 2 copy(ies) of Book2.\n",
        "\n",
        "Enter your choice (1-4): 1\n",
        "\n",
        "Available Books:\n",
        "1. Book1 - 5 available\n",
        "2. Book2 - 1 available\n",
        "3. Book3 - 7 available\n",
        "4. Book4 - 2 available\n",
        "5. Book5 - 4 available\n",
        "\n",
        "Enter your choice (1-4): 3\n",
        "\n",
        "Enter the title of the book you want to return: Book2\n",
        "Enter the quantity you want to return: 1\n",
        "You have returned 1 copy(ies) of Book2.\n",
        "\n",
        "Enter your choice (1-4): 1\n",
        "\n",
        "Available Books:\n",
        "1. Book1 - 5 available\n",
        "2. Book2 - 2 available\n",
        "3. Book3 - 7 available\n",
        "4. Book4 - 2 available\n",
        "5. Book5 - 4 available\n",
        "\n",
        "Enter your choice (1-4): 4\n",
        "\n",
        "Exiting the Library Management System. Thank you!\n"
      ]
    },
    {
      "cell_type": "code",
      "execution_count": null,
      "id": "b30a6ea0",
      "metadata": {
        "id": "b30a6ea0"
      },
      "outputs": [],
      "source": []
    }
  ],
  "metadata": {
    "kernelspec": {
      "display_name": "Python 3 (ipykernel)",
      "language": "python",
      "name": "python3"
    },
    "language_info": {
      "codemirror_mode": {
        "name": "ipython",
        "version": 3
      },
      "file_extension": ".py",
      "mimetype": "text/x-python",
      "name": "python",
      "nbconvert_exporter": "python",
      "pygments_lexer": "ipython3",
      "version": "3.9.13"
    },
    "colab": {
      "provenance": [],
      "include_colab_link": true
    }
  },
  "nbformat": 4,
  "nbformat_minor": 5
}